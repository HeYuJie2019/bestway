{
 "cells": [
  {
   "cell_type": "code",
   "execution_count": 5,
   "id": "df69cb0d",
   "metadata": {},
   "outputs": [],
   "source": [
    "import rclpy\n",
    "from rclpy.node import Node\n",
    "from livox_ros_driver2.msg import CustomMsg\n",
    "\n",
    "# 全局变量，用于存储接收到的 LiDAR 数据\n",
    "lidar_data = None\n",
    "\n",
    "def lidar_callback(msg):\n",
    "    global lidar_data\n",
    "    lidar_data = msg  # 将接收到的数据存储到全局变量\n",
    "\n",
    "rclpy.init(args=None)\n",
    "node = Node('livox_lidar_subscriber')\n",
    "subscription = node.create_subscription(\n",
    "    CustomMsg,\n",
    "    '/livox/lidar',\n",
    "    lidar_callback,\n",
    "    10\n",
    ")\n",
    "subscription  # 防止未使用警告\n",
    "\n",
    "rclpy.spin_once(node)\n",
    "node.destroy_node()\n",
    "rclpy.shutdown()\n"
   ]
  },
  {
   "cell_type": "code",
   "execution_count": 6,
   "id": "c871cc25",
   "metadata": {},
   "outputs": [
    {
     "data": {
      "text/plain": [
       "19968"
      ]
     },
     "execution_count": 6,
     "metadata": {},
     "output_type": "execute_result"
    }
   ],
   "source": [
    "len(lidar_data.points)"
   ]
  },
  {
   "cell_type": "code",
   "execution_count": 7,
   "id": "cc5a17d2",
   "metadata": {},
   "outputs": [
    {
     "name": "stdout",
     "output_type": "stream",
     "text": [
      "Point 0: livox_ros_driver2.msg.CustomPoint(offset_time=0, x=-1.218000054359436, y=1.0, z=-0.18400000035762787, reflectivity=66, tag=0, line=0)\n",
      "Point 1: livox_ros_driver2.msg.CustomPoint(offset_time=4947, x=0.0, y=0.0, z=0.0, reflectivity=0, tag=0, line=1)\n",
      "Point 2: livox_ros_driver2.msg.CustomPoint(offset_time=9894, x=0.0, y=0.0, z=0.0, reflectivity=0, tag=0, line=2)\n",
      "Point 3: livox_ros_driver2.msg.CustomPoint(offset_time=14841, x=-1.4010000228881836, y=1.00600004196167, z=-0.0430000014603138, reflectivity=88, tag=0, line=3)\n",
      "Point 4: livox_ros_driver2.msg.CustomPoint(offset_time=19788, x=0.0, y=0.0, z=0.0, reflectivity=0, tag=0, line=0)\n",
      "Point 5: livox_ros_driver2.msg.CustomPoint(offset_time=24735, x=0.0, y=0.0, z=0.0, reflectivity=0, tag=0, line=1)\n",
      "Point 6: livox_ros_driver2.msg.CustomPoint(offset_time=29682, x=-1.409999966621399, y=1.0080000162124634, z=-0.09600000083446503, reflectivity=80, tag=0, line=2)\n",
      "Point 7: livox_ros_driver2.msg.CustomPoint(offset_time=34629, x=-1.4700000286102295, y=1.0049999952316284, z=-0.04399999976158142, reflectivity=80, tag=0, line=3)\n",
      "Point 8: livox_ros_driver2.msg.CustomPoint(offset_time=39576, x=-1.3519999980926514, y=1.00600004196167, z=-0.20000000298023224, reflectivity=72, tag=0, line=0)\n",
      "Point 9: livox_ros_driver2.msg.CustomPoint(offset_time=44523, x=-1.4170000553131104, y=1.0069999694824219, z=-0.14900000393390656, reflectivity=77, tag=0, line=1)\n"
     ]
    }
   ],
   "source": [
    "for i in range(10):\n",
    "    print(f\"Point {i}: {lidar_data.points[i]}\")"
   ]
  }
 ],
 "metadata": {
  "kernelspec": {
   "display_name": "Python 3",
   "language": "python",
   "name": "python3"
  },
  "language_info": {
   "codemirror_mode": {
    "name": "ipython",
    "version": 3
   },
   "file_extension": ".py",
   "mimetype": "text/x-python",
   "name": "python",
   "nbconvert_exporter": "python",
   "pygments_lexer": "ipython3",
   "version": "3.10.12"
  }
 },
 "nbformat": 4,
 "nbformat_minor": 5
}
