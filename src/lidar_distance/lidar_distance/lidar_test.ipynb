{
 "cells": [
  {
   "cell_type": "code",
   "execution_count": 1,
   "id": "df69cb0d",
   "metadata": {},
   "outputs": [],
   "source": [
    "import rclpy\n",
    "from rclpy.node import Node\n",
    "from livox_ros_driver2.msg import CustomMsg\n",
    "\n",
    "# 全局变量，用于存储接收到的 LiDAR 数据\n",
    "lidar_data = None\n",
    "\n",
    "def lidar_callback(msg):\n",
    "    global lidar_data\n",
    "    lidar_data = msg  # 将接收到的数据存储到全局变量\n",
    "\n",
    "rclpy.init(args=None)\n",
    "node = Node('livox_lidar_subscriber')\n",
    "subscription = node.create_subscription(\n",
    "    CustomMsg,\n",
    "    '/livox/lidar',\n",
    "    lidar_callback,\n",
    "    10\n",
    ")\n",
    "subscription  # 防止未使用警告\n",
    "\n",
    "rclpy.spin_once(node)\n",
    "node.destroy_node()\n",
    "rclpy.shutdown()\n"
   ]
  },
  {
   "cell_type": "code",
   "execution_count": 3,
   "id": "c871cc25",
   "metadata": {},
   "outputs": [
    {
     "data": {
      "text/plain": [
       "4032"
      ]
     },
     "execution_count": 3,
     "metadata": {},
     "output_type": "execute_result"
    }
   ],
   "source": [
    "len(lidar_data.points)"
   ]
  },
  {
   "cell_type": "code",
   "execution_count": 6,
   "id": "cc5a17d2",
   "metadata": {},
   "outputs": [
    {
     "name": "stdout",
     "output_type": "stream",
     "text": [
      "Point 0: livox_ros_driver2.msg.CustomPoint(offset_time=0, x=-3.061000108718872, y=2.812000036239624, z=-0.36899998784065247, reflectivity=33, tag=0, line=0)\n",
      "Point 1: livox_ros_driver2.msg.CustomPoint(offset_time=4947, x=-2.9570000171661377, y=2.5840001106262207, z=-0.22300000488758087, reflectivity=54, tag=0, line=1)\n",
      "Point 2: livox_ros_driver2.msg.CustomPoint(offset_time=9894, x=-2.86299991607666, y=2.388000011444092, z=-0.0989999994635582, reflectivity=71, tag=0, line=2)\n",
      "Point 3: livox_ros_driver2.msg.CustomPoint(offset_time=14841, x=-2.7950000762939453, y=2.2269999980926514, z=0.014999999664723873, reflectivity=81, tag=0, line=3)\n",
      "Point 4: livox_ros_driver2.msg.CustomPoint(offset_time=19788, x=-3.063999891281128, y=2.680000066757202, z=-0.36399999260902405, reflectivity=36, tag=0, line=0)\n",
      "Point 5: livox_ros_driver2.msg.CustomPoint(offset_time=24735, x=-2.9570000171661377, y=2.4639999866485596, z=-0.2199999988079071, reflectivity=70, tag=0, line=1)\n",
      "Point 6: livox_ros_driver2.msg.CustomPoint(offset_time=29682, x=-2.865000009536743, y=2.2799999713897705, z=-0.09700000286102295, reflectivity=80, tag=0, line=2)\n",
      "Point 7: livox_ros_driver2.msg.CustomPoint(offset_time=34629, x=-2.7909998893737793, y=2.122999906539917, z=0.01600000075995922, reflectivity=89, tag=0, line=3)\n",
      "Point 8: livox_ros_driver2.msg.CustomPoint(offset_time=39576, x=-3.065000057220459, y=2.553999900817871, z=-0.36000001430511475, reflectivity=47, tag=0, line=0)\n",
      "Point 9: livox_ros_driver2.msg.CustomPoint(offset_time=44523, x=-2.953000068664551, y=2.3450000286102295, z=-0.2160000056028366, reflectivity=76, tag=0, line=1)\n"
     ]
    }
   ],
   "source": [
    "for i in range(10):\n",
    "    print(f\"Point {i}: {lidar_data.points[i]}\")"
   ]
  }
 ],
 "metadata": {
  "kernelspec": {
   "display_name": "Python 3",
   "language": "python",
   "name": "python3"
  },
  "language_info": {
   "codemirror_mode": {
    "name": "ipython",
    "version": 3
   },
   "file_extension": ".py",
   "mimetype": "text/x-python",
   "name": "python",
   "nbconvert_exporter": "python",
   "pygments_lexer": "ipython3",
   "version": "3.10.12"
  }
 },
 "nbformat": 4,
 "nbformat_minor": 5
}
