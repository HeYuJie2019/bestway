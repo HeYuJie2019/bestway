{
 "cells": [
  {
   "cell_type": "code",
   "execution_count": 2,
   "id": "e9befd7d",
   "metadata": {},
   "outputs": [
    {
     "name": "stderr",
     "output_type": "stream",
     "text": [
      "libEGL warning: DRI2: failed to authenticate\n"
     ]
    },
    {
     "name": "stdout",
     "output_type": "stream",
     "text": [
      "[2025-07-11 03:22:25 UTC][ZED][INFO] Logging level INFO\n",
      "[2025-07-11 03:22:26 UTC][ZED][WARNING] [Init]  ULTRA is deprecated; consider updating to a NEURAL depth mode\n",
      "[2025-07-11 03:22:27 UTC][ZED][INFO] [Init]  Camera successfully opened.\n",
      "[2025-07-11 03:22:27 UTC][ZED][INFO] [Init]  Camera FW version: 1523\n",
      "[2025-07-11 03:22:27 UTC][ZED][INFO] [Init]  Video mode: HD720@30\n",
      "[2025-07-11 03:22:27 UTC][ZED][INFO] [Init]  Serial Number: S/N 35269462\n"
     ]
    }
   ],
   "source": [
    "import pyzed.sl as sl\n",
    "# 创建ZED相机对象\n",
    "zed = sl.Camera()\n",
    "\n",
    "# 设置初始化参数\n",
    "init_params = sl.InitParameters()\n",
    "init_params.camera_resolution = sl.RESOLUTION.HD720  # 设置分辨率\n",
    "init_params.depth_mode = sl.DEPTH_MODE.ULTRA  # 设置深度模式\n",
    "init_params.coordinate_units = sl.UNIT.METER  # 深度单位为米\n",
    "\n",
    "# 打开相机\n",
    "status = zed.open(init_params)\n",
    "if status != sl.ERROR_CODE.SUCCESS:\n",
    "    print(f\"无法打开相机: {status}\")\n",
    "    exit(1)\n",
    "\n",
    "# 创建图像和深度图像对象\n",
    "image = sl.Mat()\n",
    "depth = sl.Mat()\n"
   ]
  },
  {
   "cell_type": "code",
   "execution_count": 7,
   "id": "2b21e29f",
   "metadata": {},
   "outputs": [
    {
     "name": "stdout",
     "output_type": "stream",
     "text": [
      "中心点深度: 3.90 米\n"
     ]
    }
   ],
   "source": [
    "# 捕获图像\n",
    "if zed.grab() == sl.ERROR_CODE.SUCCESS:\n",
    "    # 获取左眼图像\n",
    "    zed.retrieve_image(image, sl.VIEW.LEFT)\n",
    "    # 获取深度图\n",
    "    zed.retrieve_measure(depth, sl.MEASURE.DEPTH)\n",
    "\n",
    "    # 获取某个像素点的深度值 (例如图像中心点)\n",
    "    width = depth.get_width()\n",
    "    height = depth.get_height()\n",
    "    center_x = width // 2\n",
    "    center_y = height // 2\n",
    "\n",
    "    err, depth_value = depth.get_value(center_x, center_y)\n",
    "    if err == sl.ERROR_CODE.SUCCESS:\n",
    "        print(f\"中心点深度: {depth_value:.2f} 米\")\n",
    "    else:\n",
    "        print(f\"无法获取深度值: {err}\")"
   ]
  },
  {
   "cell_type": "code",
   "execution_count": 21,
   "id": "9d18ded8",
   "metadata": {},
   "outputs": [
    {
     "name": "stdout",
     "output_type": "stream",
     "text": [
      "深度矩阵的最小值: 0.41 米\n"
     ]
    }
   ],
   "source": [
    "import numpy as np  # 确保已导入 numpy\n",
    "\n",
    "# 捕获图像\n",
    "if zed.grab() == sl.ERROR_CODE.SUCCESS:\n",
    "    # 获取深度图\n",
    "    zed.retrieve_measure(depth, sl.MEASURE.DEPTH)\n",
    "    # 将深度数据转换为 numpy 数组\n",
    "    depth_numpy = depth.get_data()  # 假设 depth.numpy() 返回 numpy 数组\n",
    "\n",
    "    # 获取深度矩阵的最小值（忽略 NaN）\n",
    "    min_depth = np.nanmin(depth_numpy)\n",
    "    print(f\"深度矩阵的最小值: {min_depth:.2f} 米\")"
   ]
  },
  {
   "cell_type": "code",
   "execution_count": 51,
   "id": "40d67113",
   "metadata": {},
   "outputs": [
    {
     "name": "stdout",
     "output_type": "stream",
     "text": [
      "深度矩阵的最小值: 1.30 米\n"
     ]
    }
   ],
   "source": [
    "# ...existing code...\n",
    "\n",
    "import numpy as np  # 确保已导入 numpy\n",
    "\n",
    "# 捕获图像\n",
    "if zed.grab() == sl.ERROR_CODE.SUCCESS:\n",
    "    # 获取深度图\n",
    "    zed.retrieve_measure(depth, sl.MEASURE.DEPTH)\n",
    "    # 将深度数据转换为 numpy 数组\n",
    "    depth_numpy = depth.get_data()  # 假设 depth.get_data() 返回 numpy 数组\n",
    "\n",
    "    # 过滤无效值（例如 -inf, inf）\n",
    "    depth_numpy = np.where(np.isfinite(depth_numpy), depth_numpy, np.nan)\n",
    "\n",
    "    # 获取深度矩阵的最小值（忽略 NaN）\n",
    "    if np.isnan(depth_numpy).all():\n",
    "        print(\"深度矩阵中没有有效值\")\n",
    "    else:\n",
    "        min_depth = np.nanmin(depth_numpy)\n",
    "        print(f\"深度矩阵的最小值: {min_depth:.2f} 米\")\n",
    "\n",
    "# ...existing code..."
   ]
  },
  {
   "cell_type": "code",
   "execution_count": 32,
   "id": "9454c0ac",
   "metadata": {},
   "outputs": [],
   "source": [
    "# 关闭相机\n",
    "zed.close()"
   ]
  }
 ],
 "metadata": {
  "kernelspec": {
   "display_name": "Python 3",
   "language": "python",
   "name": "python3"
  },
  "language_info": {
   "codemirror_mode": {
    "name": "ipython",
    "version": 3
   },
   "file_extension": ".py",
   "mimetype": "text/x-python",
   "name": "python",
   "nbconvert_exporter": "python",
   "pygments_lexer": "ipython3",
   "version": "3.10.12"
  }
 },
 "nbformat": 4,
 "nbformat_minor": 5
}
