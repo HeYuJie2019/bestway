{
 "cells": [
  {
   "cell_type": "code",
   "execution_count": 1,
   "id": "7022eaed",
   "metadata": {},
   "outputs": [],
   "source": [
    "from adafruit_servokit import ServoKit\n",
    "from time import sleep\n",
    "class ServoController:\n",
    "    def __init__(self, channels=16):\n",
    "        # 初始化 ServoKit\n",
    "        self.kit = ServoKit(channels=channels)\n",
    "        # 设置舵机的脉冲宽度范围\n",
    "        # 500us ~ 2500us\n",
    "        # 500us = 0.5ms\n",
    "        # 2500us = 2.5ms\n",
    "        self.kit.servo[0].set_pulse_width_range(500, 2500)\n",
    "        self.kit.servo[1].set_pulse_width_range(500, 2500)\n",
    "        # 设置舵机的初始角度\n",
    "        self.kit.servo[0].angle = 88\n",
    "        self.kit.servo[1].angle = 92\n",
    "\n",
    "    def middle(self):\n",
    "        \"\"\"\n",
    "        将两个舵机都设置为中间位置\n",
    "        \"\"\"\n",
    "        self.set_angle(0, 88)\n",
    "        self.set_angle(1, 92)\n",
    "\n",
    "    def set_angle(self, servo_index, target_angle):\n",
    "        \"\"\"\n",
    "        设置指定舵机的角度，并根据角度差添加延时\n",
    "        :param servo_index: 舵机索引 (0 或 1)\n",
    "        :param target_angle: 要设置的目标角度\n",
    "        \"\"\"\n",
    "        if 0 <= servo_index < len(self.kit.servo):\n",
    "            current_angle = self.kit.servo[servo_index].angle\n",
    "            if current_angle is None:\n",
    "                current_angle = 0  # 如果当前角度为 None，假设为 0\n",
    "\n",
    "            # 计算角度差\n",
    "            angle_difference = abs(target_angle - current_angle)\n",
    "\n",
    "            # 设置舵机角度\n",
    "            self.kit.servo[servo_index].angle = target_angle\n",
    "\n",
    "            # 根据角度差延时，假设每移动 1 度延时 10 毫秒\n",
    "            delay = angle_difference * 0.01\n",
    "            # sleep(delay)\n",
    "\n",
    "    def get_angle(self, servo_index):\n",
    "        \"\"\"\n",
    "        获取指定舵机的角度\n",
    "        :param servo_index: 舵机索引 (0 或 1)\n",
    "        :return: 当前舵机的角度\n",
    "        \"\"\"\n",
    "        if 0 <= servo_index < len(self.kit.servo):\n",
    "            return self.kit.servo[servo_index].angle\n",
    "        else:\n",
    "            raise ValueError(\"舵机索引超出范围\")\n",
    "        \n",
    "    def set_position(self, servo_index, position):\n",
    "        \"\"\"\n",
    "        设置舵机的位置，使用线性映射将软件设定范围映射到舵机实际范围\n",
    "        :param servo_index: 舵机索引 (0 或 1)\n",
    "        :param position: 软件设定的位置 (0: -130~+130, 1: -90~+90)\n",
    "        \"\"\"\n",
    "        if servo_index == 0:\n",
    "            # 舵机 0 的软件范围是 -132 到 +132，实际范围是 0 到 176，中心是 88\n",
    "            if position < -132 or position > 132:\n",
    "                raise ValueError(\"舵机 0 的位置超出范围\")\n",
    "            # 映射公式：实际角度 = (位置 + 132) * (176 - 0) / (132 - (-132)) + 0\n",
    "            target_angle = (position + 132) * (176 - 0) / (132 - (-132)) + 0\n",
    "            self.set_angle(servo_index, target_angle)\n",
    "        elif servo_index == 1:\n",
    "            # 舵机 1 的软件范围是 -88 到 +88 4 到 180，中心是 92\n",
    "            if position < -88 or position > 88:\n",
    "                raise ValueError(\"舵机 1 的位置超出范围\")\n",
    "            # 映射公式：实际角度 = (位置 + 88) * (180 - 4) / (88 - (-88)) + 4\n",
    "            target_angle = (position + 88) * (180 - 4) / (88 - (-88)) + 4\n",
    "            self.set_angle(servo_index, target_angle)\n",
    "        else:\n",
    "            raise ValueError(\"无效的舵机索引\")"
   ]
  },
  {
   "cell_type": "code",
   "execution_count": 3,
   "id": "86632b75",
   "metadata": {},
   "outputs": [
    {
     "ename": "ValueError",
     "evalue": "No I2C device at address: 0x40",
     "output_type": "error",
     "traceback": [
      "\u001b[0;31m---------------------------------------------------------------------------\u001b[0m",
      "\u001b[0;31mOSError\u001b[0m                                   Traceback (most recent call last)",
      "File \u001b[0;32m/usr/local/lib/python3.10/dist-packages/adafruit_bus_device/i2c_device.py:175\u001b[0m, in \u001b[0;36mI2CDevice.__probe_for_device\u001b[0;34m(self)\u001b[0m\n\u001b[1;32m    174\u001b[0m \u001b[38;5;28;01mtry\u001b[39;00m:\n\u001b[0;32m--> 175\u001b[0m     \u001b[38;5;28;43mself\u001b[39;49m\u001b[38;5;241;43m.\u001b[39;49m\u001b[43mi2c\u001b[49m\u001b[38;5;241;43m.\u001b[39;49m\u001b[43mwriteto\u001b[49m\u001b[43m(\u001b[49m\u001b[38;5;28;43mself\u001b[39;49m\u001b[38;5;241;43m.\u001b[39;49m\u001b[43mdevice_address\u001b[49m\u001b[43m,\u001b[49m\u001b[43m \u001b[49m\u001b[38;5;124;43mb\u001b[39;49m\u001b[38;5;124;43m\"\u001b[39;49m\u001b[38;5;124;43m\"\u001b[39;49m\u001b[43m)\u001b[49m\n\u001b[1;32m    176\u001b[0m \u001b[38;5;28;01mexcept\u001b[39;00m \u001b[38;5;167;01mOSError\u001b[39;00m:\n\u001b[1;32m    177\u001b[0m     \u001b[38;5;66;03m# some OS's dont like writing an empty bytesting...\u001b[39;00m\n\u001b[1;32m    178\u001b[0m     \u001b[38;5;66;03m# Retry by reading a byte\u001b[39;00m\n",
      "File \u001b[0;32m/usr/local/lib/python3.10/dist-packages/busio.py:215\u001b[0m, in \u001b[0;36mI2C.writeto\u001b[0;34m(self, address, buffer, start, end)\u001b[0m\n\u001b[1;32m    214\u001b[0m     \u001b[38;5;28;01mreturn\u001b[39;00m \u001b[38;5;28mself\u001b[39m\u001b[38;5;241m.\u001b[39m_i2c\u001b[38;5;241m.\u001b[39mwriteto(address, \u001b[38;5;28mmemoryview\u001b[39m(buffer)[start:end], stop\u001b[38;5;241m=\u001b[39m\u001b[38;5;28;01mTrue\u001b[39;00m)\n\u001b[0;32m--> 215\u001b[0m \u001b[38;5;28;01mreturn\u001b[39;00m \u001b[38;5;28;43mself\u001b[39;49m\u001b[38;5;241;43m.\u001b[39;49m\u001b[43m_i2c\u001b[49m\u001b[38;5;241;43m.\u001b[39;49m\u001b[43mwriteto\u001b[49m\u001b[43m(\u001b[49m\u001b[43maddress\u001b[49m\u001b[43m,\u001b[49m\u001b[43m \u001b[49m\u001b[43mbuffer\u001b[49m\u001b[43m,\u001b[49m\u001b[43m \u001b[49m\u001b[43mstop\u001b[49m\u001b[38;5;241;43m=\u001b[39;49m\u001b[38;5;28;43;01mTrue\u001b[39;49;00m\u001b[43m)\u001b[49m\n",
      "File \u001b[0;32m/usr/local/lib/python3.10/dist-packages/adafruit_blinka/microcontroller/generic_linux/i2c.py:60\u001b[0m, in \u001b[0;36mI2C.writeto\u001b[0;34m(self, address, buffer, start, end, stop)\u001b[0m\n\u001b[1;32m     59\u001b[0m     end \u001b[38;5;241m=\u001b[39m \u001b[38;5;28mlen\u001b[39m(buffer)\n\u001b[0;32m---> 60\u001b[0m \u001b[38;5;28;43mself\u001b[39;49m\u001b[38;5;241;43m.\u001b[39;49m\u001b[43m_i2c_bus\u001b[49m\u001b[38;5;241;43m.\u001b[39;49m\u001b[43mwrite_bytes\u001b[49m\u001b[43m(\u001b[49m\u001b[43maddress\u001b[49m\u001b[43m,\u001b[49m\u001b[43m \u001b[49m\u001b[43mbuffer\u001b[49m\u001b[43m[\u001b[49m\u001b[43mstart\u001b[49m\u001b[43m:\u001b[49m\u001b[43mend\u001b[49m\u001b[43m]\u001b[49m\u001b[43m)\u001b[49m\n",
      "File \u001b[0;32m/usr/local/lib/python3.10/dist-packages/Adafruit_PureIO/smbus.py:303\u001b[0m, in \u001b[0;36mSMBus.write_bytes\u001b[0;34m(self, addr, buf)\u001b[0m\n\u001b[1;32m    302\u001b[0m \u001b[38;5;28mself\u001b[39m\u001b[38;5;241m.\u001b[39m_select_device(addr)\n\u001b[0;32m--> 303\u001b[0m \u001b[38;5;28;43mself\u001b[39;49m\u001b[38;5;241;43m.\u001b[39;49m\u001b[43m_device\u001b[49m\u001b[38;5;241;43m.\u001b[39;49m\u001b[43mwrite\u001b[49m\u001b[43m(\u001b[49m\u001b[43mbuf\u001b[49m\u001b[43m)\u001b[49m\n",
      "\u001b[0;31mOSError\u001b[0m: [Errno 95] Operation not supported",
      "\nDuring handling of the above exception, another exception occurred:\n",
      "\u001b[0;31mTimeoutError\u001b[0m                              Traceback (most recent call last)",
      "File \u001b[0;32m/usr/local/lib/python3.10/dist-packages/adafruit_bus_device/i2c_device.py:181\u001b[0m, in \u001b[0;36mI2CDevice.__probe_for_device\u001b[0;34m(self)\u001b[0m\n\u001b[1;32m    180\u001b[0m     result \u001b[38;5;241m=\u001b[39m \u001b[38;5;28mbytearray\u001b[39m(\u001b[38;5;241m1\u001b[39m)\n\u001b[0;32m--> 181\u001b[0m     \u001b[38;5;28;43mself\u001b[39;49m\u001b[38;5;241;43m.\u001b[39;49m\u001b[43mi2c\u001b[49m\u001b[38;5;241;43m.\u001b[39;49m\u001b[43mreadfrom_into\u001b[49m\u001b[43m(\u001b[49m\u001b[38;5;28;43mself\u001b[39;49m\u001b[38;5;241;43m.\u001b[39;49m\u001b[43mdevice_address\u001b[49m\u001b[43m,\u001b[49m\u001b[43m \u001b[49m\u001b[43mresult\u001b[49m\u001b[43m)\u001b[49m\n\u001b[1;32m    182\u001b[0m \u001b[38;5;28;01mexcept\u001b[39;00m \u001b[38;5;167;01mOSError\u001b[39;00m:\n\u001b[1;32m    183\u001b[0m     \u001b[38;5;66;03m# pylint: disable=raise-missing-from\u001b[39;00m\n",
      "File \u001b[0;32m/usr/local/lib/python3.10/dist-packages/busio.py:205\u001b[0m, in \u001b[0;36mI2C.readfrom_into\u001b[0;34m(self, address, buffer, start, end)\u001b[0m\n\u001b[1;32m    204\u001b[0m     buffer \u001b[38;5;241m=\u001b[39m \u001b[38;5;28mmemoryview\u001b[39m(buffer)[start:end]\n\u001b[0;32m--> 205\u001b[0m \u001b[38;5;28;01mreturn\u001b[39;00m \u001b[38;5;28;43mself\u001b[39;49m\u001b[38;5;241;43m.\u001b[39;49m\u001b[43m_i2c\u001b[49m\u001b[38;5;241;43m.\u001b[39;49m\u001b[43mreadfrom_into\u001b[49m\u001b[43m(\u001b[49m\u001b[43maddress\u001b[49m\u001b[43m,\u001b[49m\u001b[43m \u001b[49m\u001b[43mbuffer\u001b[49m\u001b[43m,\u001b[49m\u001b[43m \u001b[49m\u001b[43mstop\u001b[49m\u001b[38;5;241;43m=\u001b[39;49m\u001b[38;5;28;43;01mTrue\u001b[39;49;00m\u001b[43m)\u001b[49m\n",
      "File \u001b[0;32m/usr/local/lib/python3.10/dist-packages/adafruit_blinka/microcontroller/generic_linux/i2c.py:67\u001b[0m, in \u001b[0;36mI2C.readfrom_into\u001b[0;34m(self, address, buffer, start, end, stop)\u001b[0m\n\u001b[1;32m     65\u001b[0m     end \u001b[38;5;241m=\u001b[39m \u001b[38;5;28mlen\u001b[39m(buffer)\n\u001b[0;32m---> 67\u001b[0m readin \u001b[38;5;241m=\u001b[39m \u001b[38;5;28;43mself\u001b[39;49m\u001b[38;5;241;43m.\u001b[39;49m\u001b[43m_i2c_bus\u001b[49m\u001b[38;5;241;43m.\u001b[39;49m\u001b[43mread_bytes\u001b[49m\u001b[43m(\u001b[49m\u001b[43maddress\u001b[49m\u001b[43m,\u001b[49m\u001b[43m \u001b[49m\u001b[43mend\u001b[49m\u001b[43m \u001b[49m\u001b[38;5;241;43m-\u001b[39;49m\u001b[43m \u001b[49m\u001b[43mstart\u001b[49m\u001b[43m)\u001b[49m\n\u001b[1;32m     68\u001b[0m \u001b[38;5;28;01mfor\u001b[39;00m i \u001b[38;5;129;01min\u001b[39;00m \u001b[38;5;28mrange\u001b[39m(end \u001b[38;5;241m-\u001b[39m start):\n",
      "File \u001b[0;32m/usr/local/lib/python3.10/dist-packages/Adafruit_PureIO/smbus.py:170\u001b[0m, in \u001b[0;36mSMBus.read_bytes\u001b[0;34m(self, addr, number)\u001b[0m\n\u001b[1;32m    169\u001b[0m \u001b[38;5;28mself\u001b[39m\u001b[38;5;241m.\u001b[39m_select_device(addr)\n\u001b[0;32m--> 170\u001b[0m \u001b[38;5;28;01mreturn\u001b[39;00m \u001b[38;5;28;43mself\u001b[39;49m\u001b[38;5;241;43m.\u001b[39;49m\u001b[43m_device\u001b[49m\u001b[38;5;241;43m.\u001b[39;49m\u001b[43mread\u001b[49m\u001b[43m(\u001b[49m\u001b[43mnumber\u001b[49m\u001b[43m)\u001b[49m\n",
      "\u001b[0;31mTimeoutError\u001b[0m: [Errno 110] Connection timed out",
      "\nDuring handling of the above exception, another exception occurred:\n",
      "\u001b[0;31mValueError\u001b[0m                                Traceback (most recent call last)",
      "Cell \u001b[0;32mIn[3], line 1\u001b[0m\n\u001b[0;32m----> 1\u001b[0m controller \u001b[38;5;241m=\u001b[39m \u001b[43mServoController\u001b[49m\u001b[43m(\u001b[49m\u001b[43m)\u001b[49m\n",
      "Cell \u001b[0;32mIn[1], line 6\u001b[0m, in \u001b[0;36mServoController.__init__\u001b[0;34m(self, channels)\u001b[0m\n\u001b[1;32m      4\u001b[0m \u001b[38;5;28;01mdef\u001b[39;00m \u001b[38;5;21m__init__\u001b[39m(\u001b[38;5;28mself\u001b[39m, channels\u001b[38;5;241m=\u001b[39m\u001b[38;5;241m16\u001b[39m):\n\u001b[1;32m      5\u001b[0m     \u001b[38;5;66;03m# 初始化 ServoKit\u001b[39;00m\n\u001b[0;32m----> 6\u001b[0m     \u001b[38;5;28mself\u001b[39m\u001b[38;5;241m.\u001b[39mkit \u001b[38;5;241m=\u001b[39m \u001b[43mServoKit\u001b[49m\u001b[43m(\u001b[49m\u001b[43mchannels\u001b[49m\u001b[38;5;241;43m=\u001b[39;49m\u001b[43mchannels\u001b[49m\u001b[43m)\u001b[49m\n\u001b[1;32m      7\u001b[0m     \u001b[38;5;66;03m# 设置舵机的脉冲宽度范围\u001b[39;00m\n\u001b[1;32m      8\u001b[0m     \u001b[38;5;66;03m# 500us ~ 2500us\u001b[39;00m\n\u001b[1;32m      9\u001b[0m     \u001b[38;5;66;03m# 500us = 0.5ms\u001b[39;00m\n\u001b[1;32m     10\u001b[0m     \u001b[38;5;66;03m# 2500us = 2.5ms\u001b[39;00m\n\u001b[1;32m     11\u001b[0m     \u001b[38;5;28mself\u001b[39m\u001b[38;5;241m.\u001b[39mkit\u001b[38;5;241m.\u001b[39mservo[\u001b[38;5;241m0\u001b[39m]\u001b[38;5;241m.\u001b[39mset_pulse_width_range(\u001b[38;5;241m500\u001b[39m, \u001b[38;5;241m2500\u001b[39m)\n",
      "File \u001b[0;32m/usr/local/lib/python3.10/dist-packages/adafruit_servokit.py:89\u001b[0m, in \u001b[0;36mServoKit.__init__\u001b[0;34m(self, channels, i2c, address, reference_clock_speed, frequency)\u001b[0m\n\u001b[1;32m     87\u001b[0m \u001b[38;5;28;01mif\u001b[39;00m i2c \u001b[38;5;129;01mis\u001b[39;00m \u001b[38;5;28;01mNone\u001b[39;00m:\n\u001b[1;32m     88\u001b[0m     i2c \u001b[38;5;241m=\u001b[39m board\u001b[38;5;241m.\u001b[39mI2C()\n\u001b[0;32m---> 89\u001b[0m \u001b[38;5;28mself\u001b[39m\u001b[38;5;241m.\u001b[39m_pca \u001b[38;5;241m=\u001b[39m \u001b[43mPCA9685\u001b[49m\u001b[43m(\u001b[49m\n\u001b[1;32m     90\u001b[0m \u001b[43m    \u001b[49m\u001b[43mi2c\u001b[49m\u001b[43m,\u001b[49m\u001b[43m \u001b[49m\u001b[43maddress\u001b[49m\u001b[38;5;241;43m=\u001b[39;49m\u001b[43maddress\u001b[49m\u001b[43m,\u001b[49m\u001b[43m \u001b[49m\u001b[43mreference_clock_speed\u001b[49m\u001b[38;5;241;43m=\u001b[39;49m\u001b[43mreference_clock_speed\u001b[49m\n\u001b[1;32m     91\u001b[0m \u001b[43m\u001b[49m\u001b[43m)\u001b[49m\n\u001b[1;32m     92\u001b[0m \u001b[38;5;28mself\u001b[39m\u001b[38;5;241m.\u001b[39m_pca\u001b[38;5;241m.\u001b[39mfrequency \u001b[38;5;241m=\u001b[39m frequency\n\u001b[1;32m     94\u001b[0m \u001b[38;5;28mself\u001b[39m\u001b[38;5;241m.\u001b[39m_servo \u001b[38;5;241m=\u001b[39m _Servo(\u001b[38;5;28mself\u001b[39m)\n",
      "File \u001b[0;32m/usr/local/lib/python3.10/dist-packages/adafruit_pca9685.py:150\u001b[0m, in \u001b[0;36mPCA9685.__init__\u001b[0;34m(self, i2c_bus, address, reference_clock_speed)\u001b[0m\n\u001b[1;32m    143\u001b[0m \u001b[38;5;28;01mdef\u001b[39;00m \u001b[38;5;21m__init__\u001b[39m(\n\u001b[1;32m    144\u001b[0m     \u001b[38;5;28mself\u001b[39m,\n\u001b[1;32m    145\u001b[0m     i2c_bus: I2C,\n\u001b[0;32m   (...)\u001b[0m\n\u001b[1;32m    148\u001b[0m     reference_clock_speed: \u001b[38;5;28mint\u001b[39m \u001b[38;5;241m=\u001b[39m \u001b[38;5;241m25000000\u001b[39m,\n\u001b[1;32m    149\u001b[0m ) \u001b[38;5;241m-\u001b[39m\u001b[38;5;241m>\u001b[39m \u001b[38;5;28;01mNone\u001b[39;00m:\n\u001b[0;32m--> 150\u001b[0m     \u001b[38;5;28mself\u001b[39m\u001b[38;5;241m.\u001b[39mi2c_device \u001b[38;5;241m=\u001b[39m \u001b[43mi2c_device\u001b[49m\u001b[38;5;241;43m.\u001b[39;49m\u001b[43mI2CDevice\u001b[49m\u001b[43m(\u001b[49m\u001b[43mi2c_bus\u001b[49m\u001b[43m,\u001b[49m\u001b[43m \u001b[49m\u001b[43maddress\u001b[49m\u001b[43m)\u001b[49m\n\u001b[1;32m    151\u001b[0m     \u001b[38;5;28mself\u001b[39m\u001b[38;5;241m.\u001b[39mchannels \u001b[38;5;241m=\u001b[39m PCAChannels(\u001b[38;5;28mself\u001b[39m)\n\u001b[1;32m    152\u001b[0m     \u001b[38;5;124;03m\"\"\"Sequence of 16 `PWMChannel` objects. One for each channel.\"\"\"\u001b[39;00m\n",
      "File \u001b[0;32m/usr/local/lib/python3.10/dist-packages/adafruit_bus_device/i2c_device.py:62\u001b[0m, in \u001b[0;36mI2CDevice.__init__\u001b[0;34m(self, i2c, device_address, probe)\u001b[0m\n\u001b[1;32m     59\u001b[0m \u001b[38;5;28mself\u001b[39m\u001b[38;5;241m.\u001b[39mdevice_address \u001b[38;5;241m=\u001b[39m device_address\n\u001b[1;32m     61\u001b[0m \u001b[38;5;28;01mif\u001b[39;00m probe:\n\u001b[0;32m---> 62\u001b[0m     \u001b[38;5;28;43mself\u001b[39;49m\u001b[38;5;241;43m.\u001b[39;49m\u001b[43m__probe_for_device\u001b[49m\u001b[43m(\u001b[49m\u001b[43m)\u001b[49m\n",
      "File \u001b[0;32m/usr/local/lib/python3.10/dist-packages/adafruit_bus_device/i2c_device.py:184\u001b[0m, in \u001b[0;36mI2CDevice.__probe_for_device\u001b[0;34m(self)\u001b[0m\n\u001b[1;32m    181\u001b[0m         \u001b[38;5;28mself\u001b[39m\u001b[38;5;241m.\u001b[39mi2c\u001b[38;5;241m.\u001b[39mreadfrom_into(\u001b[38;5;28mself\u001b[39m\u001b[38;5;241m.\u001b[39mdevice_address, result)\n\u001b[1;32m    182\u001b[0m     \u001b[38;5;28;01mexcept\u001b[39;00m \u001b[38;5;167;01mOSError\u001b[39;00m:\n\u001b[1;32m    183\u001b[0m         \u001b[38;5;66;03m# pylint: disable=raise-missing-from\u001b[39;00m\n\u001b[0;32m--> 184\u001b[0m         \u001b[38;5;28;01mraise\u001b[39;00m \u001b[38;5;167;01mValueError\u001b[39;00m(\u001b[38;5;124m\"\u001b[39m\u001b[38;5;124mNo I2C device at address: 0x\u001b[39m\u001b[38;5;132;01m%x\u001b[39;00m\u001b[38;5;124m\"\u001b[39m \u001b[38;5;241m%\u001b[39m \u001b[38;5;28mself\u001b[39m\u001b[38;5;241m.\u001b[39mdevice_address)\n\u001b[1;32m    185\u001b[0m         \u001b[38;5;66;03m# pylint: enable=raise-missing-from\u001b[39;00m\n\u001b[1;32m    186\u001b[0m \u001b[38;5;28;01mfinally\u001b[39;00m:\n\u001b[1;32m    187\u001b[0m     \u001b[38;5;28mself\u001b[39m\u001b[38;5;241m.\u001b[39mi2c\u001b[38;5;241m.\u001b[39munlock()\n",
      "\u001b[0;31mValueError\u001b[0m: No I2C device at address: 0x40"
     ]
    }
   ],
   "source": [
    "controller = ServoController()"
   ]
  },
  {
   "cell_type": "code",
   "execution_count": 4,
   "id": "4fe148dd",
   "metadata": {},
   "outputs": [],
   "source": [
    "controller.middle()"
   ]
  },
  {
   "cell_type": "code",
   "execution_count": 3,
   "id": "8b6fc612",
   "metadata": {},
   "outputs": [],
   "source": [
    "controller.set_position(0, 22)\n",
    "controller.set_position(1, 22)"
   ]
  }
 ],
 "metadata": {
  "kernelspec": {
   "display_name": "Python 3",
   "language": "python",
   "name": "python3"
  },
  "language_info": {
   "codemirror_mode": {
    "name": "ipython",
    "version": 3
   },
   "file_extension": ".py",
   "mimetype": "text/x-python",
   "name": "python",
   "nbconvert_exporter": "python",
   "pygments_lexer": "ipython3",
   "version": "3.10.12"
  }
 },
 "nbformat": 4,
 "nbformat_minor": 5
}
