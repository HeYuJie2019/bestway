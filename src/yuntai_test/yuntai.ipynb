{
 "cells": [
  {
   "cell_type": "code",
   "execution_count": 1,
   "id": "7022eaed",
   "metadata": {},
   "outputs": [],
   "source": [
    "from adafruit_servokit import ServoKit\n",
    "from time import sleep\n",
    "class ServoController:\n",
    "    def __init__(self, channels=16):\n",
    "        # 初始化 ServoKit\n",
    "        self.kit = ServoKit(channels=channels)\n",
    "        # 设置舵机的脉冲宽度范围\n",
    "        # 500us ~ 2500us\n",
    "        # 500us = 0.5ms\n",
    "        # 2500us = 2.5ms\n",
    "        self.kit.servo[0].set_pulse_width_range(500, 2500)\n",
    "        self.kit.servo[1].set_pulse_width_range(500, 2500)\n",
    "        # 设置舵机的初始角度\n",
    "        self.kit.servo[0].angle = 88\n",
    "        self.kit.servo[1].angle = 92\n",
    "\n",
    "    def middle(self):\n",
    "        \"\"\"\n",
    "        将两个舵机都设置为中间位置\n",
    "        \"\"\"\n",
    "        self.set_angle(0, 88)\n",
    "        self.set_angle(1, 92)\n",
    "\n",
    "    def set_angle(self, servo_index, target_angle):\n",
    "        \"\"\"\n",
    "        设置指定舵机的角度，并根据角度差添加延时\n",
    "        :param servo_index: 舵机索引 (0 或 1)\n",
    "        :param target_angle: 要设置的目标角度\n",
    "        \"\"\"\n",
    "        if 0 <= servo_index < len(self.kit.servo):\n",
    "            current_angle = self.kit.servo[servo_index].angle\n",
    "            if current_angle is None:\n",
    "                current_angle = 0  # 如果当前角度为 None，假设为 0\n",
    "\n",
    "            # 计算角度差\n",
    "            angle_difference = abs(target_angle - current_angle)\n",
    "\n",
    "            # 设置舵机角度\n",
    "            self.kit.servo[servo_index].angle = target_angle\n",
    "\n",
    "            # 根据角度差延时，假设每移动 1 度延时 10 毫秒\n",
    "            delay = angle_difference * 0.01\n",
    "            # sleep(delay)\n",
    "\n",
    "    def get_angle(self, servo_index):\n",
    "        \"\"\"\n",
    "        获取指定舵机的角度\n",
    "        :param servo_index: 舵机索引 (0 或 1)\n",
    "        :return: 当前舵机的角度\n",
    "        \"\"\"\n",
    "        if 0 <= servo_index < len(self.kit.servo):\n",
    "            return self.kit.servo[servo_index].angle\n",
    "        else:\n",
    "            raise ValueError(\"舵机索引超出范围\")\n",
    "        \n",
    "    def set_position(self, servo_index, position):\n",
    "        \"\"\"\n",
    "        设置舵机的位置，使用线性映射将软件设定范围映射到舵机实际范围\n",
    "        :param servo_index: 舵机索引 (0 或 1)\n",
    "        :param position: 软件设定的位置 (0: -130~+130, 1: -90~+90)\n",
    "        \"\"\"\n",
    "        if servo_index == 0:\n",
    "            # 舵机 0 的软件范围是 -132 到 +132，实际范围是 0 到 176，中心是 88\n",
    "            if position < -132 or position > 132:\n",
    "                raise ValueError(\"舵机 0 的位置超出范围\")\n",
    "            # 映射公式：实际角度 = (位置 + 132) * (176 - 0) / (132 - (-132)) + 0\n",
    "            target_angle = (position + 132) * (176 - 0) / (132 - (-132)) + 0\n",
    "            self.set_angle(servo_index, target_angle)\n",
    "        elif servo_index == 1:\n",
    "            # 舵机 1 的软件范围是 -88 到 +88 4 到 180，中心是 92\n",
    "            if position < -88 or position > 88:\n",
    "                raise ValueError(\"舵机 1 的位置超出范围\")\n",
    "            # 映射公式：实际角度 = (位置 + 88) * (180 - 4) / (88 - (-88)) + 4\n",
    "            target_angle = (position + 88) * (180 - 4) / (88 - (-88)) + 4\n",
    "            self.set_angle(servo_index, target_angle)\n",
    "        else:\n",
    "            raise ValueError(\"无效的舵机索引\")"
   ]
  },
  {
   "cell_type": "code",
   "execution_count": 2,
   "id": "86632b75",
   "metadata": {},
   "outputs": [],
   "source": [
    "controller = ServoController()"
   ]
  },
  {
   "cell_type": "code",
   "execution_count": 4,
   "id": "4fe148dd",
   "metadata": {},
   "outputs": [],
   "source": [
    "controller.middle()"
   ]
  },
  {
   "cell_type": "code",
   "execution_count": 5,
   "id": "8b6fc612",
   "metadata": {},
   "outputs": [],
   "source": [
    "controller.set_position(0, 0)\n",
    "controller.set_position(1, 0)"
   ]
  }
 ],
 "metadata": {
  "kernelspec": {
   "display_name": "Python 3",
   "language": "python",
   "name": "python3"
  },
  "language_info": {
   "codemirror_mode": {
    "name": "ipython",
    "version": 3
   },
   "file_extension": ".py",
   "mimetype": "text/x-python",
   "name": "python",
   "nbconvert_exporter": "python",
   "pygments_lexer": "ipython3",
   "version": "3.10.12"
  }
 },
 "nbformat": 4,
 "nbformat_minor": 5
}
